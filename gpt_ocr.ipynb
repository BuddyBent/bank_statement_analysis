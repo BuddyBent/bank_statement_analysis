{
 "cells": [
  {
   "cell_type": "code",
   "execution_count": 87,
   "metadata": {},
   "outputs": [],
   "source": [
    "import base64\n",
    "import requests\n",
    "import dotenv\n",
    "import os\n",
    "import pandas as pd"
   ]
  },
  {
   "cell_type": "markdown",
   "metadata": {},
   "source": [
    "## OCR with openai"
   ]
  },
  {
   "cell_type": "code",
   "execution_count": 50,
   "metadata": {},
   "outputs": [
    {
     "name": "stdout",
     "output_type": "stream",
     "text": [
      "<Response [200]>\n"
     ]
    }
   ],
   "source": [
    "dotenv_path = os.path.join(os.getcwd(), \".env\")\n",
    "dotenv.load_dotenv(dotenv_path)\n",
    "api_key = os.getenv(\"OPENAI_API_KEY\")\n",
    "\n",
    "\n",
    "# Function to encode the image\n",
    "def encode_image(image_path):\n",
    "    with open(image_path, \"rb\") as image_file:\n",
    "        return base64.b64encode(image_file.read()).decode(\"utf-8\")\n",
    "\n",
    "\n",
    "# Path to your file\n",
    "image_path = \"data\\example_auszug.png\"\n",
    "\n",
    "# Getting the base64 string\n",
    "base64_image = encode_image(image_path)\n",
    "\n",
    "headers = {\"Content-Type\": \"application/json\", \"Authorization\": f\"Bearer {api_key}\"}\n",
    "\n",
    "payload = {\n",
    "    \"model\": \"gpt-4-vision-preview\",\n",
    "    \"messages\": [\n",
    "        {\n",
    "            \"role\": \"user\",\n",
    "            \"content\": [\n",
    "                {\n",
    "                    \"type\": \"text\",\n",
    "                    \"text\": \"\"\"\n",
    "Transcribe this file with correct formatting of tables. \"\"\",\n",
    "                },\n",
    "                {\"type\": \"image_url\", \"image_url\": {\"url\": f\"data:image/jpeg;base64,{base64_image}\"}},\n",
    "            ],\n",
    "        }\n",
    "    ],\n",
    "    \"max_tokens\": 2000,\n",
    "}\n",
    "\n",
    "response = requests.post(\"https://api.openai.com/v1/chat/completions\", headers=headers, json=payload)\n"
   ]
  },
  {
   "cell_type": "code",
   "execution_count": 93,
   "metadata": {},
   "outputs": [
    {
     "name": "stdout",
     "output_type": "stream",
     "text": [
      "Certainly! Below is the transcription of the table content from the given file, with the formatting replicated as closely as possible to plain text:\n",
      "\n",
      "```\n",
      "| Datum      | Wert    | Erläuterung                                  | Betrag EUR |\n",
      "|------------|---------|----------------------------------------------|------------|\n",
      "| 04.05.2016 | 04.05.2016 | Kontostand am 29.04.2016, Auszug Nr. 2    |            |\n",
      "|            |         | SOLLZINSEN                   | 720,00-       |\n",
      "|            |         | GUTSCHRIFT SB-TAGESGELD      | 720,00        |\n",
      "|------------|---------|----------------------------------------------|------------|\n",
      "| 04.05.2016 | 04.05.2016 | SB-TAGESGELD                  | 1.440,00-   | \n",
      "|            |         | ZINSEN TZR X.XXX,00           |              |\n",
      "|            |         | ZINSABSCHLUSS                 |              |\n",
      "|            |         | GUTSCHRIFT TZR                |              |\n",
      "|            |         | SOLLZINSEN                    |              |\n",
      "|            |         | SB-TAGESGELD, O.STEUER Z. GUTSCHRIFT DER     |\n",
      "|            |         | ZINSEN                        |              |\n",
      "|------------|---------|----------------------------------------------|------------|\n",
      "|            |         | Kontostand am 31.05.2016 um 20:05 Uhr        | 0,00       |\n",
      "```\n",
      "Please note that negative figures are represented with a trailing minus sign in the original document (e.g., \"720,00-\").\n",
      "\n",
      "I've indicated the empty cells with spaces, and for the structure of the table, I used lines (\"|\") and hyphens (\"-\") to replicate the look of table cells. The actual visual layout (e.g., column widths, font sizes, and styles) cannot be precisely recreated in plain text. Additionally, negative amounts in the table are denoted with a minus sign after the value (e.g., \"720,00-\"). The total \"Ihr Dispositionskredit EUR: 1.650,00\" is noted at the bottom.\n"
     ]
    }
   ],
   "source": [
    "print(response.json()[\"choices\"][0][\"message\"][\"content\"])\n"
   ]
  },
  {
   "cell_type": "code",
   "execution_count": null,
   "metadata": {},
   "outputs": [],
   "source": [
    "# example raw table string\n",
    "table_str = \"\"\"\n",
    "| Datum    | Wert  | Erläuterung                                                    | Betrag EUR |\n",
    "|----------|-------|----------------------------------------------------------------|------------|\n",
    "| 04/05/16 |       | STORNO RSV KONTOABSCHLUSS SIEHE TEXTERGAENZUNG                 |     720,00- |\n",
    "| 04/05/16 |       | STORNO TG. ABSCHLUSS SIEHE TEXTERGAENZUNG                      |     720,00- |\n",
    "| 04/05/16 |       | JAHRESBEITRAG                                                  |   1.440,00- |\n",
    "\"\"\"\n",
    "\n",
    "lines = [line for line in table_str.split('\\n') if line.strip()]\n",
    "\n",
    "# The first line is the header\n",
    "headers = [header.strip() for header in lines[0].split('|') if header.strip()]\n",
    "\n",
    "# The rest are data lines\n",
    "data_lines = lines[2:]  \n",
    "\n",
    "data = {header: [] for header in headers}\n",
    "\n",
    "# Populate the dictionary with data\n",
    "for line in data_lines:\n",
    "    values = [value.strip() for value in line.split('|')[1:-1]]\n",
    "    for i, header in enumerate(headers):\n",
    "        data[header].append(values[i])\n",
    "\n",
    "\n",
    "df = pd.DataFrame.from_dict(data)\n",
    "df"
   ]
  }
 ],
 "metadata": {
  "kernelspec": {
   "display_name": "venv",
   "language": "python",
   "name": "python3"
  },
  "language_info": {
   "codemirror_mode": {
    "name": "ipython",
    "version": 3
   },
   "file_extension": ".py",
   "mimetype": "text/x-python",
   "name": "python",
   "nbconvert_exporter": "python",
   "pygments_lexer": "ipython3",
   "version": "3.11.4"
  }
 },
 "nbformat": 4,
 "nbformat_minor": 2
}
